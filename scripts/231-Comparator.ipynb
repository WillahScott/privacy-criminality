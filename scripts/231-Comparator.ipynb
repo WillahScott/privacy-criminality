{
 "cells": [
  {
   "cell_type": "markdown",
   "metadata": {},
   "source": [
    "# Insider Trading & Campaign Contributions\n",
    "\n",
    "Explorations in the possible relationships between NY State Campaign Contribution [dataset](http://www1.nyc.gov/nyctp/download.htm) and SEC Insider trading [dataset](http://www.secform4.com/sec-filings.htm)\n",
    "\n",
    "**Note** - *The data from the SEC Insider Trading dataset was scraped from the web using [XML-to-csv.py](http://localhost:8888/edit/XML-to-csv.py)*"
   ]
  },
  {
   "cell_type": "markdown",
   "metadata": {},
   "source": [
    "## Load data"
   ]
  },
  {
   "cell_type": "code",
   "execution_count": 1,
   "metadata": {
    "collapsed": true
   },
   "outputs": [],
   "source": [
    "import pandas as pd"
   ]
  },
  {
   "cell_type": "markdown",
   "metadata": {},
   "source": [
    "### SEC Insider Trading"
   ]
  },
  {
   "cell_type": "code",
   "execution_count": 10,
   "metadata": {
    "collapsed": true
   },
   "outputs": [],
   "source": [
    "SEC_data = pd.read_csv('data/SEC_filings.csv')"
   ]
  },
  {
   "cell_type": "code",
   "execution_count": 13,
   "metadata": {
    "collapsed": false
   },
   "outputs": [
    {
     "name": "stdout",
     "output_type": "stream",
     "text": [
      "Total records: 155 Unique companies: 117\n"
     ]
    }
   ],
   "source": [
    "print \"Total records: {tot} Unique companies: {uni}\".format( tot=len(SEC_data) , uni=len(SEC_data.Company.unique()) )"
   ]
  },
  {
   "cell_type": "markdown",
   "metadata": {},
   "source": [
    "### Campaign Contribution"
   ]
  },
  {
   "cell_type": "code",
   "execution_count": 15,
   "metadata": {
    "collapsed": false,
    "scrolled": true
   },
   "outputs": [],
   "source": [
    "Campaign_data1 = pd.read_csv('data/dwd_FMS_Transactions_25000.csv')\n",
    "Campaign_data2 = pd.read_csv('data/dwd_FMS_Transactions_5000_25000.csv')\n",
    "Campaign_data3 = pd.read_csv('data/dwd_FMS_Transactions_5000.csv')"
   ]
  },
  {
   "cell_type": "code",
   "execution_count": 22,
   "metadata": {
    "collapsed": false
   },
   "outputs": [],
   "source": [
    "# Check have the same columns and concatenate datasets\n",
    "assert (Campaign_data1.columns == Campaign_data2.columns).all and (Campaign_data2.columns == Campaign_data3.columns).all\n",
    "Campaign_data = pd.concat([Campaign_data1, Campaign_data2, Campaign_data3])"
   ]
  },
  {
   "cell_type": "code",
   "execution_count": 23,
   "metadata": {
    "collapsed": false
   },
   "outputs": [
    {
     "name": "stdout",
     "output_type": "stream",
     "text": [
      "Total records: 54587 Unique companies: 132\n"
     ]
    }
   ],
   "source": [
    "print \"Total records: {tot} Unique companies: {uni}\".format( tot=len(Campaign_data) , uni=len(Campaign_data.Org_Name.unique()) )"
   ]
  },
  {
   "cell_type": "markdown",
   "metadata": {},
   "source": [
    "## First exploration"
   ]
  },
  {
   "cell_type": "code",
   "execution_count": 27,
   "metadata": {
    "collapsed": false
   },
   "outputs": [],
   "source": [
    "_check = 0\n",
    "for c in SEC_data.Company.unique():\n",
    "    for cc in Campaign_data.Org_Name.unique():\n",
    "        if c in cc:\n",
    "            print \"SEC: {c} <-> Campaign: {camp}\".format( sec=c, camp=cc )\n",
    "        else:\n",
    "            _check += 1"
   ]
  },
  {
   "cell_type": "code",
   "execution_count": 29,
   "metadata": {
    "collapsed": false
   },
   "outputs": [],
   "source": [
    "# Add check\n",
    "assert _check == 132 * 117"
   ]
  },
  {
   "cell_type": "markdown",
   "metadata": {},
   "source": [
    "## Automate comparison\n",
    "Let's automate this process:"
   ]
  },
  {
   "cell_type": "code",
   "execution_count": 103,
   "metadata": {
    "collapsed": false
   },
   "outputs": [],
   "source": [
    "# Returns generator of tuple matches\n",
    "def run_compare(comparator, datasets=None, verbose=False):\n",
    "    _matches = 0\n",
    "    \n",
    "    # If no datasets were passed, use unique company names\n",
    "    if not datasets:\n",
    "        datasets = (SEC_data.Company.unique(), Campaign_data.Org_Name.unique())\n",
    "    \n",
    "    \n",
    "    for c in datasets[0]:\n",
    "        for cc in datasets[1]:\n",
    "            \n",
    "            is_match, token = comparator(c,cc)\n",
    "            \n",
    "            if is_match:\n",
    "                _matches += 1\n",
    "                if verbose:\n",
    "                    print \"MATCH [{tk}]: {c1} <-> {c2}\".format( tk=token, c1=c , c2=cc )\n",
    "                yield (c, cc)\n",
    "    \n",
    "    \n",
    "    if _matches == 0:\n",
    "        print \"No matches found...\"\n"
   ]
  },
  {
   "cell_type": "markdown",
   "metadata": {},
   "source": [
    "Let's rerun the same simple comparison with our new `compare_run()`:"
   ]
  },
  {
   "cell_type": "code",
   "execution_count": 105,
   "metadata": {
    "collapsed": false
   },
   "outputs": [
    {
     "name": "stdout",
     "output_type": "stream",
     "text": [
      "No matches found...\n"
     ]
    },
    {
     "data": {
      "text/plain": [
       "[]"
      ]
     },
     "execution_count": 105,
     "metadata": {},
     "output_type": "execute_result"
    }
   ],
   "source": [
    "simple_comp = lambda x,y: (x in y,x)\n",
    "\n",
    "comp = run_compare(simple_comp, verbose=True)\n",
    "list(comp)"
   ]
  },
  {
   "cell_type": "markdown",
   "metadata": {},
   "source": [
    "## Comparators"
   ]
  },
  {
   "cell_type": "markdown",
   "metadata": {},
   "source": [
    "The comparator must return a two-element tuple or list, where the first element is a `True` / `False`, and the second element is the token matched (if there is no match, then the token will be the empty string \"\").\n",
    "\n",
    "Example:\n",
    "`comparator(\"Abracadabra inc.\",\"Abra LLC\")` -> `(True, \"abra\")`"
   ]
  },
  {
   "cell_type": "code",
   "execution_count": 112,
   "metadata": {
    "collapsed": true
   },
   "outputs": [],
   "source": [
    "def word_comp(term1, term2):\n",
    "    # Common terms not to be considered matches\n",
    "    common_terms = ['inc', 'inc.', 'corp', 'co', 'systems', 'fund', 'ltd']\n",
    "    \n",
    "    # Get lowercase separate words\n",
    "    words1 = [ w for w in term1.lower().split() if w not in common_terms and len(w) > 1 ]\n",
    "    words2 = [ w for w in term2.lower().split() if w not in common_terms and len(w) > 1 ]\n",
    "    for w in words1:\n",
    "        if any(map(lambda x: w in x, words2)):\n",
    "            return (True, w)\n",
    "    \n",
    "    for w in words2:\n",
    "        if any(map(lambda x: w in x, words1)):\n",
    "            return (True, w)\n",
    "    \n",
    "    return (False, \"\")"
   ]
  },
  {
   "cell_type": "markdown",
   "metadata": {},
   "source": [
    "## Split words + case insensitive compare"
   ]
  },
  {
   "cell_type": "code",
   "execution_count": 113,
   "metadata": {
    "collapsed": false
   },
   "outputs": [
    {
     "name": "stdout",
     "output_type": "stream",
     "text": [
      "MATCH [ar]: Iheartmedia Inc. <-> AR KROPP LLC\n",
      "MATCH [technologies]: Netsol Technologies Inc <-> DERIVE TECHNOLOGIES LLC\n",
      "MATCH [net]: Netsol Technologies Inc <-> G NET CONSTRUCTION CORP ALLIANCE & SON CONSTRUCTIO\n",
      "MATCH [technologies]: Netsol Technologies Inc <-> ACCELERATED TECHNOLOGIES OF NEW YORK, INC.\n",
      "MATCH [on]: Consolidated Edison Inc <-> ARC ON 4TH STREET INC\n",
      "MATCH [son]: Consolidated Edison Inc <-> G NET CONSTRUCTION CORP ALLIANCE & SON CONSTRUCTIO\n",
      "MATCH [ar]: Village Super Market Inc <-> AR KROPP LLC\n",
      "MATCH [super]: Village Super Market Inc <-> SUPERSTRUCTURES ENGINEERING ARCHITECTURE, PLLC\n",
      "MATCH [la]: Village Super Market Inc <-> LA CHIANA REALTY INC\n",
      "MATCH [market]: Village Super Market Inc <-> DELL MARKETING LP\n",
      "MATCH [market]: Village Super Market Inc <-> F & H SUPPLY CO. U.S.MARKETING SERVICES CO.\n",
      "MATCH [lage]: Village Super Market Inc <-> DE LAGE LANDEN OPERATIONAL SERVICES LLC\n",
      "MATCH [pc]: Pc Connection Inc <-> IPC NEW YORK PROPERTIES LLC\n",
      "MATCH [on]: Pc Connection Inc <-> ARC ON 4TH STREET INC\n",
      "MATCH [heritage]: Investors Heritage Capital Corp <-> NEW HERITAGE THEATRE GROUP INC\n",
      "MATCH [state]: State Auto Financial Corp <-> NYS URBAN DEVELOPMENT CORP DBA EMPIRE STATE DEVELOPMENT CORP\n",
      "MATCH [state]: State Auto Financial Corp <-> NEW YORK STATE INDUSTRIES FOR THE DISABLED INC\n",
      "MATCH [state]: State Auto Financial Corp <-> FORTUNE ESTATES INC\n",
      "MATCH [state]: State Auto Financial Corp <-> OFFICE EQUIPMENT COMPANY OF STATEN ISLAND, INC.\n",
      "MATCH [state]: State Auto Financial Corp <-> STATEN ISLAND LIBERIAN COMMUN- ITY ASSOCIATION INC\n",
      "MATCH [financial]: State Auto Financial Corp <-> PITNEY BOWES GLOBAL FINANCIAL SERVICES LLC\n",
      "MATCH [state]: State Auto Financial Corp <-> ALLSTATE LEGAL\n",
      "MATCH [development]: Memorial Resource Development Corp. <-> NYS URBAN DEVELOPMENT CORP DBA EMPIRE STATE DEVELOPMENT CORP\n",
      "MATCH [development]: Memorial Resource Development Corp. <-> TEX DEVELOPMENT CO LLC\n",
      "MATCH [development]: Memorial Resource Development Corp. <-> RIGBY PROFESSIONAL DEVELOPMENT\n",
      "MATCH [development]: Memorial Resource Development Corp. <-> ROCKAWAY DEVELOPMENT REVITALIZATION CORP\n",
      "MATCH [de]: Memorial Resource Development Corp. <-> DE LAGE LANDEN OPERATIONAL SERVICES LLC\n",
      "MATCH [corp.]: Memorial Resource Development Corp. <-> RIOS SOUND & LIGHTING CORP.\n",
      "MATCH [land]: Kirkland's Inc <-> DRAGONETTI BROTHERS LAND SCAPING NURSERY & FLORIST INC\n",
      "MATCH [la]: Kirkland's Inc <-> LA CHIANA REALTY INC\n",
      "MATCH [and]: Kirkland's Inc <-> NETWORK VOICE AND DATA\n",
      "MATCH [net]: Net Element Inc. <-> DRAGONETTI BROTHERS LAND SCAPING NURSERY & FLORIST INC\n",
      "MATCH [net]: Net Element Inc. <-> NETWORK VOICE AND DATA\n",
      "MATCH [net]: Net Element Inc. <-> FAMILY SERVICES NETWORK OF NEW YORK INC\n",
      "MATCH [net]: Net Element Inc. <-> PANDA HOUSE LLC LEN KUSNETZ\n",
      "MATCH [net]: Net Element Inc. <-> G NET CONSTRUCTION CORP ALLIANCE & SON CONSTRUCTIO\n",
      "MATCH [corp.]: Mattress Firm Holding CORP. <-> RIOS SOUND & LIGHTING CORP.\n",
      "MATCH [on]: Synchronoss Technologies Inc <-> ARC ON 4TH STREET INC\n",
      "MATCH [technologies]: Synchronoss Technologies Inc <-> DERIVE TECHNOLOGIES LLC\n",
      "MATCH [technologies]: Synchronoss Technologies Inc <-> ACCELERATED TECHNOLOGIES OF NEW YORK, INC.\n",
      "MATCH [on]: International Baler Corp <-> ARC ON 4TH STREET INC\n",
      "MATCH [on]: Mead Johnson Nutrition Co <-> ARC ON 4TH STREET INC\n",
      "MATCH [son]: Mead Johnson Nutrition Co <-> G NET CONSTRUCTION CORP ALLIANCE & SON CONSTRUCTIO\n",
      "MATCH [york]: York Water Co <-> UNITED FEDERAL DATA OF NEW YORK, LLC\n",
      "MATCH [york]: York Water Co <-> THE NEW YORK TIMES\n",
      "MATCH [york]: York Water Co <-> NEW YORK PUBLIC LIBRARY\n",
      "MATCH [york]: York Water Co <-> FUND FOR THE CITY OF NEW YORK\n",
      "MATCH [york]: York Water Co <-> NEW YORK STATE INDUSTRIES FOR THE DISABLED INC\n",
      "MATCH [york]: York Water Co <-> NEW YORK UNIVERSITY CHILD STUDY CENTER\n",
      "MATCH [york]: York Water Co <-> IPC NEW YORK PROPERTIES LLC\n",
      "MATCH [york]: York Water Co <-> FAMILY SERVICES NETWORK OF NEW YORK INC\n",
      "MATCH [york]: York Water Co <-> ACCELERATED TECHNOLOGIES OF NEW YORK, INC.\n",
      "MATCH [ar]: Hemispherx Biopharma Inc <-> AR KROPP LLC\n",
      "MATCH [technology]: Firsthand Technology Value Fund Inc. <-> BYTEC TECHNOLOGY INC.\n",
      "MATCH [and]: Firsthand Technology Value Fund Inc. <-> NETWORK VOICE AND DATA\n",
      "MATCH [solutions]: Mind Solutions Inc. <-> KONICA MINOLTA BUSINESS SOLUTIONS USA INC\n",
      "MATCH [on]: Mind Solutions Inc. <-> ARC ON 4TH STREET INC\n",
      "MATCH [ar]: Spar Group Inc <-> AR KROPP LLC\n",
      "MATCH [group]: Spar Group Inc <-> NEW HERITAGE THEATRE GROUP INC\n",
      "MATCH [com]: Pcs Edventures Com Inc <-> METROPOLITAN OFFICE & COMPUTER SUPPLIES, INC.\n",
      "MATCH [com]: Pcs Edventures Com Inc <-> PADILLA & COMPANY LLP\n",
      "MATCH [com]: Pcs Edventures Com Inc <-> STAPLES CONTRACT & COMMERCIAL INC\n",
      "MATCH [com]: Pcs Edventures Com Inc <-> OFFICE EQUIPMENT COMPANY OF STATEN ISLAND, INC.\n",
      "MATCH [com]: Pcs Edventures Com Inc <-> HEWLETT-PACKARD COMPANY\n",
      "MATCH [com]: Pcs Edventures Com Inc <-> RDC COMMERCIAL CENTER\n",
      "MATCH [com]: Pcs Edventures Com Inc <-> JPK CORPORATION CROUSEKIMZEY COMPANY\n",
      "MATCH [com]: Pcs Edventures Com Inc <-> STATEN ISLAND LIBERIAN COMMUN- ITY ASSOCIATION INC\n",
      "MATCH [com]: Pcs Edventures Com Inc <-> SGS TESTCOM INC\n",
      "MATCH [ar]: Marcus Corp <-> AR KROPP LLC\n",
      "MATCH [arc]: Marcus Corp <-> ARC ON 4TH STREET INC\n",
      "MATCH [financial]: First Financial Bancorp <-> PITNEY BOWES GLOBAL FINANCIAL SERVICES LLC\n",
      "MATCH [bank]: Wilson Bank Holding Co <-> CITIBANK, N.A.\n",
      "MATCH [on]: Wilson Bank Holding Co <-> ARC ON 4TH STREET INC\n",
      "MATCH [son]: Wilson Bank Holding Co <-> G NET CONSTRUCTION CORP ALLIANCE & SON CONSTRUCTIO\n",
      "MATCH [ar]: Flex Pharma Inc. <-> AR KROPP LLC\n",
      "MATCH [industries]: Worthington Industries Inc <-> NEW YORK STATE INDUSTRIES FOR THE DISABLED INC\n",
      "MATCH [on]: Worthington Industries Inc <-> ARC ON 4TH STREET INC\n",
      "MATCH [services]: Ladenburg Thalmann Financial Services Inc <-> CINTRA SOFTWARE & SERVICES, INC.\n",
      "MATCH [service]: Ladenburg Thalmann Financial Services Inc <-> DELUXE DELIVERY SERVICE\n",
      "MATCH [la]: Ladenburg Thalmann Financial Services Inc <-> LA CHIANA REALTY INC\n",
      "MATCH [ann]: Ladenburg Thalmann Financial Services Inc <-> MARY ANN BROCHETELLI\n",
      "MATCH [services]: Ladenburg Thalmann Financial Services Inc <-> RESIDUALS MANAGEMENT SERVICES INC EARTHCARE\n",
      "MATCH [services]: Ladenburg Thalmann Financial Services Inc <-> INFORMATION HANDLING SERVICES INC\n",
      "MATCH [services]: Ladenburg Thalmann Financial Services Inc <-> LANGUAGE LINE SERVICES, INC\n",
      "MATCH [services]: Ladenburg Thalmann Financial Services Inc <-> F & H SUPPLY CO. U.S.MARKETING SERVICES CO.\n",
      "MATCH [services]: Ladenburg Thalmann Financial Services Inc <-> FAMILY SERVICES NETWORK OF NEW YORK INC\n",
      "MATCH [service]: Ladenburg Thalmann Financial Services Inc <-> AM NEWSPAPER DELIVERY SERVICE INC\n",
      "MATCH [financial]: Ladenburg Thalmann Financial Services Inc <-> PITNEY BOWES GLOBAL FINANCIAL SERVICES LLC\n",
      "MATCH [services]: Ladenburg Thalmann Financial Services Inc <-> DE LAGE LANDEN OPERATIONAL SERVICES LLC\n",
      "MATCH [ar]: Intercept Pharmaceuticals Inc <-> AR KROPP LLC\n",
      "MATCH [utica]: Intercept Pharmaceuticals Inc <-> UTICA & REMSEN II LLC\n",
      "MATCH [ace]: Intercept Pharmaceuticals Inc <-> ACE RENTAL CORPORATION ACE PARTY RENTAL CENTER\n",
      "MATCH [de]: Zendesk Inc. <-> DE LAGE LANDEN OPERATIONAL SERVICES LLC\n",
      "MATCH [ms]: Comscore Inc <-> SUNSET PARK PREP MS 821\n",
      "MATCH [ar]: Lemaitre Vascular Inc <-> AR KROPP LLC\n",
      "MATCH [la]: Lemaitre Vascular Inc <-> LA CHIANA REALTY INC\n",
      "MATCH [service]: California Water Service Group <-> CINTRA SOFTWARE & SERVICES, INC.\n",
      "MATCH [for]: California Water Service Group <-> FUND FOR THE CITY OF NEW YORK\n",
      "MATCH [group]: California Water Service Group <-> NEW HERITAGE THEATRE GROUP INC\n",
      "MATCH [for]: California Water Service Group <-> NEW YORK STATE INDUSTRIES FOR THE DISABLED INC\n",
      "MATCH [service]: California Water Service Group <-> DELUXE DELIVERY SERVICE\n",
      "MATCH [service]: California Water Service Group <-> RESIDUALS MANAGEMENT SERVICES INC EARTHCARE\n",
      "MATCH [service]: California Water Service Group <-> INFORMATION HANDLING SERVICES INC\n",
      "MATCH [service]: California Water Service Group <-> LANGUAGE LINE SERVICES, INC\n",
      "MATCH [service]: California Water Service Group <-> F & H SUPPLY CO. U.S.MARKETING SERVICES CO.\n",
      "MATCH [service]: California Water Service Group <-> FAMILY SERVICES NETWORK OF NEW YORK INC\n",
      "MATCH [service]: California Water Service Group <-> AM NEWSPAPER DELIVERY SERVICE INC\n",
      "MATCH [for]: California Water Service Group <-> LIFESTYLES FOR THE DISABLED, INC.\n",
      "MATCH [service]: California Water Service Group <-> PITNEY BOWES GLOBAL FINANCIAL SERVICES LLC\n",
      "MATCH [service]: California Water Service Group <-> DE LAGE LANDEN OPERATIONAL SERVICES LLC\n",
      "MATCH [ar]: Adamas Pharmaceuticals Inc <-> AR KROPP LLC\n",
      "MATCH [utica]: Adamas Pharmaceuticals Inc <-> UTICA & REMSEN II LLC\n",
      "MATCH [am]: Adamas Pharmaceuticals Inc <-> AM NEWSPAPER DELIVERY SERVICE INC\n",
      "MATCH [ace]: Adamas Pharmaceuticals Inc <-> ACE RENTAL CORPORATION ACE PARTY RENTAL CENTER\n",
      "MATCH [ar]: Harvard Bioscience Inc <-> AR KROPP LLC\n",
      "MATCH [new]: Newstar Financial Inc. <-> UNITED FEDERAL DATA OF NEW YORK, LLC\n",
      "MATCH [ar]: Newstar Financial Inc. <-> AR KROPP LLC\n",
      "MATCH [new]: Newstar Financial Inc. <-> THE NEW YORK TIMES\n",
      "MATCH [new]: Newstar Financial Inc. <-> NEW YORK PUBLIC LIBRARY\n",
      "MATCH [new]: Newstar Financial Inc. <-> FUND FOR THE CITY OF NEW YORK\n",
      "MATCH [new]: Newstar Financial Inc. <-> NEW HERITAGE THEATRE GROUP INC\n",
      "MATCH [new]: Newstar Financial Inc. <-> NEW YORK STATE INDUSTRIES FOR THE DISABLED INC\n",
      "MATCH [new]: Newstar Financial Inc. <-> NEW YORK UNIVERSITY CHILD STUDY CENTER\n",
      "MATCH [new]: Newstar Financial Inc. <-> IPC NEW YORK PROPERTIES LLC\n",
      "MATCH [new]: Newstar Financial Inc. <-> FAMILY SERVICES NETWORK OF NEW YORK INC\n",
      "MATCH [financial]: Newstar Financial Inc. <-> PITNEY BOWES GLOBAL FINANCIAL SERVICES LLC\n",
      "MATCH [new]: Newstar Financial Inc. <-> ACCELERATED TECHNOLOGIES OF NEW YORK, INC.\n",
      "MATCH [com]: Salesforce Com Inc <-> METROPOLITAN OFFICE & COMPUTER SUPPLIES, INC.\n",
      "MATCH [com]: Salesforce Com Inc <-> PADILLA & COMPANY LLP\n",
      "MATCH [for]: Salesforce Com Inc <-> FUND FOR THE CITY OF NEW YORK\n",
      "MATCH [for]: Salesforce Com Inc <-> NEW YORK STATE INDUSTRIES FOR THE DISABLED INC\n",
      "MATCH [com]: Salesforce Com Inc <-> STAPLES CONTRACT & COMMERCIAL INC\n",
      "MATCH [com]: Salesforce Com Inc <-> OFFICE EQUIPMENT COMPANY OF STATEN ISLAND, INC.\n",
      "MATCH [les]: Salesforce Com Inc <-> LES S. THOMPSON & CO.,LLP\n",
      "MATCH [com]: Salesforce Com Inc <-> HEWLETT-PACKARD COMPANY\n",
      "MATCH [com]: Salesforce Com Inc <-> RDC COMMERCIAL CENTER\n",
      "MATCH [com]: Salesforce Com Inc <-> JPK CORPORATION CROUSEKIMZEY COMPANY\n",
      "MATCH [for]: Salesforce Com Inc <-> LIFESTYLES FOR THE DISABLED, INC.\n",
      "MATCH [com]: Salesforce Com Inc <-> STATEN ISLAND LIBERIAN COMMUN- ITY ASSOCIATION INC\n",
      "MATCH [com]: Salesforce Com Inc <-> SGS TESTCOM INC\n",
      "MATCH [the]: United Therapeutics Corp <-> THE URBAN INSTITUTE\n",
      "MATCH [united]: United Therapeutics Corp <-> UNITED FEDERAL DATA OF NEW YORK, LLC\n",
      "MATCH [the]: United Therapeutics Corp <-> THE NEW YORK TIMES\n",
      "MATCH [the]: United Therapeutics Corp <-> FUND FOR THE CITY OF NEW YORK\n",
      "MATCH [the]: United Therapeutics Corp <-> NEW YORK STATE INDUSTRIES FOR THE DISABLED INC\n",
      "MATCH [the]: United Therapeutics Corp <-> THE SANBORN MAPPING CO\n",
      "MATCH [the]: United Therapeutics Corp <-> LIFESTYLES FOR THE DISABLED, INC.\n",
      "MATCH [am]: Sangamo Biosciences Inc <-> AM NEWSPAPER DELIVERY SERVICE INC\n",
      "MATCH [de]: Dexcom Inc <-> DE LAGE LANDEN OPERATIONAL SERVICES LLC\n",
      "MATCH [on]: Rubicon Project Inc <-> ARC ON 4TH STREET INC\n",
      "MATCH [realty]: Coresite Realty Corp <-> LA CHIANA REALTY INC\n",
      "MATCH [realty]: Coresite Realty Corp <-> VORNADO REALTY LP\n",
      "MATCH [on]: Anixter International Inc <-> ARC ON 4TH STREET INC\n",
      "MATCH [ar]: Pacira Pharmaceuticals Inc. <-> AR KROPP LLC\n",
      "MATCH [utica]: Pacira Pharmaceuticals Inc. <-> UTICA & REMSEN II LLC\n",
      "MATCH [ace]: Pacira Pharmaceuticals Inc. <-> ACE RENTAL CORPORATION ACE PARTY RENTAL CENTER\n",
      "MATCH [on]: Flextronics International Ltd <-> ARC ON 4TH STREET INC\n",
      "MATCH [ar]: Biglari Holdings Inc <-> AR KROPP LLC\n",
      "MATCH [big]: Biglari Holdings Inc <-> BIG APPLE CIRCUS LTD\n",
      "MATCH [la]: Biglari Holdings Inc <-> LA CHIANA REALTY INC\n",
      "MATCH [gs]: Biglari Holdings Inc <-> GS 505 PARK LLC\n",
      "MATCH [ar]: Houghton Mifflin Harcourt Co <-> AR KROPP LLC\n",
      "MATCH [arc]: Houghton Mifflin Harcourt Co <-> ARC ON 4TH STREET INC\n",
      "MATCH [technology]: Seagate Technology Plc <-> BYTEC TECHNOLOGY INC.\n",
      "MATCH [all]: Mallinckrodt Plc <-> ALL ISLAND MARINE CORP\n",
      "MATCH [the]: Carbylan Therapeutics Inc. <-> THE URBAN INSTITUTE\n",
      "MATCH [ar]: Carbylan Therapeutics Inc. <-> AR KROPP LLC\n",
      "MATCH [the]: Carbylan Therapeutics Inc. <-> THE NEW YORK TIMES\n",
      "MATCH [the]: Carbylan Therapeutics Inc. <-> FUND FOR THE CITY OF NEW YORK\n",
      "MATCH [the]: Carbylan Therapeutics Inc. <-> NEW YORK STATE INDUSTRIES FOR THE DISABLED INC\n",
      "MATCH [la]: Carbylan Therapeutics Inc. <-> LA CHIANA REALTY INC\n",
      "MATCH [the]: Carbylan Therapeutics Inc. <-> THE SANBORN MAPPING CO\n",
      "MATCH [the]: Carbylan Therapeutics Inc. <-> LIFESTYLES FOR THE DISABLED, INC.\n",
      "MATCH [technology]: Key Technology Inc <-> BYTEC TECHNOLOGY INC.\n",
      "MATCH [key]: Key Technology Inc <-> GREEN KEY TEMP LLC\n",
      "MATCH [ar]: Carmax Inc <-> AR KROPP LLC\n",
      "MATCH [la]: Calamos Asset Management Inc. <-> LA CHIANA REALTY INC\n",
      "MATCH [management]: Calamos Asset Management Inc. <-> RESIDUALS MANAGEMENT SERVICES INC EARTHCARE\n",
      "MATCH [am]: Calamos Asset Management Inc. <-> AM NEWSPAPER DELIVERY SERVICE INC\n",
      "MATCH [urban]: Urban Outfitters Inc <-> THE URBAN INSTITUTE\n",
      "MATCH [urban]: Urban Outfitters Inc <-> NYS URBAN DEVELOPMENT CORP DBA EMPIRE STATE DEVELOPMENT CORP\n",
      "MATCH [the]: Regulus Therapeutics Inc. <-> THE URBAN INSTITUTE\n",
      "MATCH [the]: Regulus Therapeutics Inc. <-> THE NEW YORK TIMES\n",
      "MATCH [the]: Regulus Therapeutics Inc. <-> FUND FOR THE CITY OF NEW YORK\n",
      "MATCH [the]: Regulus Therapeutics Inc. <-> NEW YORK STATE INDUSTRIES FOR THE DISABLED INC\n",
      "MATCH [the]: Regulus Therapeutics Inc. <-> THE SANBORN MAPPING CO\n",
      "MATCH [the]: Regulus Therapeutics Inc. <-> LIFESTYLES FOR THE DISABLED, INC.\n",
      "MATCH [ar]: Factset Research Systems Inc <-> AR KROPP LLC\n",
      "MATCH [arc]: Factset Research Systems Inc <-> ARC ON 4TH STREET INC\n",
      "MATCH [the]: Thermon Group Holdings Inc. <-> THE URBAN INSTITUTE\n",
      "MATCH [the]: Thermon Group Holdings Inc. <-> THE NEW YORK TIMES\n",
      "MATCH [the]: Thermon Group Holdings Inc. <-> FUND FOR THE CITY OF NEW YORK\n",
      "MATCH [group]: Thermon Group Holdings Inc. <-> NEW HERITAGE THEATRE GROUP INC\n",
      "MATCH [the]: Thermon Group Holdings Inc. <-> NEW YORK STATE INDUSTRIES FOR THE DISABLED INC\n",
      "MATCH [gs]: Thermon Group Holdings Inc. <-> GS 505 PARK LLC\n",
      "MATCH [on]: Thermon Group Holdings Inc. <-> ARC ON 4TH STREET INC\n",
      "MATCH [the]: Thermon Group Holdings Inc. <-> THE SANBORN MAPPING CO\n",
      "MATCH [the]: Thermon Group Holdings Inc. <-> LIFESTYLES FOR THE DISABLED, INC.\n",
      "MATCH [la]: Proto Labs Inc <-> LA CHIANA REALTY INC\n",
      "MATCH [on]: Lions Gate Entertainment Corp <-> ARC ON 4TH STREET INC\n",
      "MATCH [services]: Amtrust Financial Services Inc. <-> CINTRA SOFTWARE & SERVICES, INC.\n",
      "MATCH [service]: Amtrust Financial Services Inc. <-> DELUXE DELIVERY SERVICE\n",
      "MATCH [services]: Amtrust Financial Services Inc. <-> RESIDUALS MANAGEMENT SERVICES INC EARTHCARE\n",
      "MATCH [services]: Amtrust Financial Services Inc. <-> INFORMATION HANDLING SERVICES INC\n",
      "MATCH [services]: Amtrust Financial Services Inc. <-> LANGUAGE LINE SERVICES, INC\n",
      "MATCH [services]: Amtrust Financial Services Inc. <-> F & H SUPPLY CO. U.S.MARKETING SERVICES CO.\n",
      "MATCH [services]: Amtrust Financial Services Inc. <-> FAMILY SERVICES NETWORK OF NEW YORK INC\n",
      "MATCH [am]: Amtrust Financial Services Inc. <-> AM NEWSPAPER DELIVERY SERVICE INC\n",
      "MATCH [financial]: Amtrust Financial Services Inc. <-> PITNEY BOWES GLOBAL FINANCIAL SERVICES LLC\n",
      "MATCH [services]: Amtrust Financial Services Inc. <-> DE LAGE LANDEN OPERATIONAL SERVICES LLC\n",
      "MATCH [industries]: Flotek Industries Inc <-> NEW YORK STATE INDUSTRIES FOR THE DISABLED INC\n",
      "MATCH [ar]: Ctpartners Executive Search Inc <-> AR KROPP LLC\n",
      "MATCH [arc]: Ctpartners Executive Search Inc <-> ARC ON 4TH STREET INC\n",
      "MATCH [la]: Atlantic Tele Network Inc <-> LA CHIANA REALTY INC\n",
      "MATCH [network]: Atlantic Tele Network Inc <-> NETWORK VOICE AND DATA\n",
      "MATCH [network]: Atlantic Tele Network Inc <-> FAMILY SERVICES NETWORK OF NEW YORK INC\n",
      "MATCH [net]: Atlantic Tele Network Inc <-> G NET CONSTRUCTION CORP ALLIANCE & SON CONSTRUCTIO\n",
      "MATCH [financial]: Tiptree Financial Inc <-> PITNEY BOWES GLOBAL FINANCIAL SERVICES LLC\n",
      "MATCH [ar]: Albany Molecular Research Inc <-> AR KROPP LLC\n",
      "MATCH [la]: Albany Molecular Research Inc <-> LA CHIANA REALTY INC\n",
      "MATCH [arc]: Albany Molecular Research Inc <-> ARC ON 4TH STREET INC\n",
      "MATCH [on]: Ipg Photonics Corp <-> ARC ON 4TH STREET INC\n",
      "MATCH [properties]: Patent Properties Inc. <-> IPC NEW YORK PROPERTIES LLC\n",
      "MATCH [de]: Nexpoint Residential Trust Inc. <-> DE LAGE LANDEN OPERATIONAL SERVICES LLC\n",
      "MATCH [gs]: Kcg Holdings Inc. <-> GS 505 PARK LLC\n",
      "MATCH [on]: Comtech Telecommunications Corp <-> ARC ON 4TH STREET INC\n",
      "MATCH [on]: Consumers Bancorp Inc <-> ARC ON 4TH STREET INC\n",
      "MATCH [on]: Boston Beer Co Inc <-> ARC ON 4TH STREET INC\n",
      "MATCH [ar]: Health Care Reit Inc <-> AR KROPP LLC\n",
      "MATCH [care]: Health Care Reit Inc <-> RESIDUALS MANAGEMENT SERVICES INC EARTHCARE\n",
      "MATCH [data]: Payment Data Systems Inc <-> UNITED FEDERAL DATA OF NEW YORK, LLC\n",
      "MATCH [payment]: Payment Data Systems Inc <-> GLOBAL PAYMENTS DIRECT INC\n",
      "MATCH [data]: Payment Data Systems Inc <-> READY DATA INC\n",
      "MATCH [data]: Payment Data Systems Inc <-> NETWORK VOICE AND DATA\n",
      "MATCH [gs]: Monotype Imaging Holdings Inc. <-> GS 505 PARK LLC\n",
      "MATCH [on]: Monotype Imaging Holdings Inc. <-> ARC ON 4TH STREET INC\n",
      "MATCH [de]: Analog Devices Inc <-> DE LAGE LANDEN OPERATIONAL SERVICES LLC\n",
      "237\n"
     ]
    }
   ],
   "source": [
    "comp = run_compare(word_comp, verbose=True)\n",
    "_comp = list(comp)\n",
    "\n",
    "print len(_comp)\n",
    "# _comp"
   ]
  },
  {
   "cell_type": "code",
   "execution_count": null,
   "metadata": {
    "collapsed": true
   },
   "outputs": [],
   "source": []
  },
  {
   "cell_type": "code",
   "execution_count": null,
   "metadata": {
    "collapsed": true
   },
   "outputs": [],
   "source": []
  }
 ],
 "metadata": {
  "kernelspec": {
   "display_name": "Python 2",
   "language": "python",
   "name": "python2"
  },
  "language_info": {
   "codemirror_mode": {
    "name": "ipython",
    "version": 2
   },
   "file_extension": ".py",
   "mimetype": "text/x-python",
   "name": "python",
   "nbconvert_exporter": "python",
   "pygments_lexer": "ipython2",
   "version": "2.7.9"
  }
 },
 "nbformat": 4,
 "nbformat_minor": 0
}
